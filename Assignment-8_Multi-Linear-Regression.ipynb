{
 "cells": [
  {
   "cell_type": "code",
   "execution_count": 1,
   "metadata": {},
   "outputs": [],
   "source": [
    "import pandas as pd\n",
    "import numpy as np\n",
    "import matplotlib.pyplot as plt\n",
    "import seaborn as sns\n",
    "import warnings\n",
    "warnings.filterwarnings('ignore')"
   ]
  },
  {
   "cell_type": "code",
   "execution_count": 2,
   "metadata": {},
   "outputs": [
    {
     "data": {
      "text/html": [
       "<div>\n",
       "<style scoped>\n",
       "    .dataframe tbody tr th:only-of-type {\n",
       "        vertical-align: middle;\n",
       "    }\n",
       "\n",
       "    .dataframe tbody tr th {\n",
       "        vertical-align: top;\n",
       "    }\n",
       "\n",
       "    .dataframe thead th {\n",
       "        text-align: right;\n",
       "    }\n",
       "</style>\n",
       "<table border=\"1\" class=\"dataframe\">\n",
       "  <thead>\n",
       "    <tr style=\"text-align: right;\">\n",
       "      <th></th>\n",
       "      <th>R&amp;D Spend</th>\n",
       "      <th>Administration</th>\n",
       "      <th>Marketing Spend</th>\n",
       "      <th>State</th>\n",
       "      <th>Profit</th>\n",
       "    </tr>\n",
       "  </thead>\n",
       "  <tbody>\n",
       "    <tr>\n",
       "      <th>0</th>\n",
       "      <td>165349.20</td>\n",
       "      <td>136897.80</td>\n",
       "      <td>471784.10</td>\n",
       "      <td>New York</td>\n",
       "      <td>192261.83</td>\n",
       "    </tr>\n",
       "    <tr>\n",
       "      <th>1</th>\n",
       "      <td>162597.70</td>\n",
       "      <td>151377.59</td>\n",
       "      <td>443898.53</td>\n",
       "      <td>California</td>\n",
       "      <td>191792.06</td>\n",
       "    </tr>\n",
       "    <tr>\n",
       "      <th>2</th>\n",
       "      <td>153441.51</td>\n",
       "      <td>101145.55</td>\n",
       "      <td>407934.54</td>\n",
       "      <td>Florida</td>\n",
       "      <td>191050.39</td>\n",
       "    </tr>\n",
       "    <tr>\n",
       "      <th>3</th>\n",
       "      <td>144372.41</td>\n",
       "      <td>118671.85</td>\n",
       "      <td>383199.62</td>\n",
       "      <td>New York</td>\n",
       "      <td>182901.99</td>\n",
       "    </tr>\n",
       "    <tr>\n",
       "      <th>4</th>\n",
       "      <td>142107.34</td>\n",
       "      <td>91391.77</td>\n",
       "      <td>366168.42</td>\n",
       "      <td>Florida</td>\n",
       "      <td>166187.94</td>\n",
       "    </tr>\n",
       "  </tbody>\n",
       "</table>\n",
       "</div>"
      ],
      "text/plain": [
       "   R&D Spend  Administration  Marketing Spend       State     Profit\n",
       "0  165349.20       136897.80        471784.10    New York  192261.83\n",
       "1  162597.70       151377.59        443898.53  California  191792.06\n",
       "2  153441.51       101145.55        407934.54     Florida  191050.39\n",
       "3  144372.41       118671.85        383199.62    New York  182901.99\n",
       "4  142107.34        91391.77        366168.42     Florida  166187.94"
      ]
     },
     "execution_count": 2,
     "metadata": {},
     "output_type": "execute_result"
    }
   ],
   "source": [
    "df = pd.read_csv('data/50_Startups.csv')\n",
    "df.head()"
   ]
  },
  {
   "cell_type": "code",
   "execution_count": 3,
   "metadata": {},
   "outputs": [
    {
     "name": "stdout",
     "output_type": "stream",
     "text": [
      "<class 'pandas.core.frame.DataFrame'>\n",
      "RangeIndex: 50 entries, 0 to 49\n",
      "Data columns (total 5 columns):\n",
      " #   Column           Non-Null Count  Dtype  \n",
      "---  ------           --------------  -----  \n",
      " 0   R&D Spend        50 non-null     float64\n",
      " 1   Administration   50 non-null     float64\n",
      " 2   Marketing Spend  50 non-null     float64\n",
      " 3   State            50 non-null     object \n",
      " 4   Profit           50 non-null     float64\n",
      "dtypes: float64(4), object(1)\n",
      "memory usage: 2.1+ KB\n"
     ]
    }
   ],
   "source": [
    "df.info()"
   ]
  },
  {
   "cell_type": "code",
   "execution_count": 4,
   "metadata": {},
   "outputs": [
    {
     "data": {
      "text/html": [
       "<div>\n",
       "<style scoped>\n",
       "    .dataframe tbody tr th:only-of-type {\n",
       "        vertical-align: middle;\n",
       "    }\n",
       "\n",
       "    .dataframe tbody tr th {\n",
       "        vertical-align: top;\n",
       "    }\n",
       "\n",
       "    .dataframe thead th {\n",
       "        text-align: right;\n",
       "    }\n",
       "</style>\n",
       "<table border=\"1\" class=\"dataframe\">\n",
       "  <thead>\n",
       "    <tr style=\"text-align: right;\">\n",
       "      <th></th>\n",
       "      <th>R&amp;D Spend</th>\n",
       "      <th>Administration</th>\n",
       "      <th>Marketing Spend</th>\n",
       "      <th>Profit</th>\n",
       "    </tr>\n",
       "    <tr>\n",
       "      <th>State</th>\n",
       "      <th></th>\n",
       "      <th></th>\n",
       "      <th></th>\n",
       "      <th></th>\n",
       "    </tr>\n",
       "  </thead>\n",
       "  <tbody>\n",
       "    <tr>\n",
       "      <th>California</th>\n",
       "      <td>64657.674118</td>\n",
       "      <td>120746.507059</td>\n",
       "      <td>182540.929412</td>\n",
       "      <td>103905.175294</td>\n",
       "    </tr>\n",
       "    <tr>\n",
       "      <th>Florida</th>\n",
       "      <td>80724.016250</td>\n",
       "      <td>121768.897500</td>\n",
       "      <td>247323.551250</td>\n",
       "      <td>118774.024375</td>\n",
       "    </tr>\n",
       "    <tr>\n",
       "      <th>New York</th>\n",
       "      <td>76195.062353</td>\n",
       "      <td>121543.470588</td>\n",
       "      <td>205346.015882</td>\n",
       "      <td>113756.446471</td>\n",
       "    </tr>\n",
       "  </tbody>\n",
       "</table>\n",
       "</div>"
      ],
      "text/plain": [
       "               R&D Spend  Administration  Marketing Spend         Profit\n",
       "State                                                                   \n",
       "California  64657.674118   120746.507059    182540.929412  103905.175294\n",
       "Florida     80724.016250   121768.897500    247323.551250  118774.024375\n",
       "New York    76195.062353   121543.470588    205346.015882  113756.446471"
      ]
     },
     "execution_count": 4,
     "metadata": {},
     "output_type": "execute_result"
    }
   ],
   "source": [
    "df.groupby('State').mean()"
   ]
  },
  {
   "cell_type": "code",
   "execution_count": 5,
   "metadata": {},
   "outputs": [
    {
     "data": {
      "text/plain": [
       "R&D Spend          0\n",
       "Administration     0\n",
       "Marketing Spend    0\n",
       "State              0\n",
       "Profit             0\n",
       "dtype: int64"
      ]
     },
     "execution_count": 5,
     "metadata": {},
     "output_type": "execute_result"
    }
   ],
   "source": [
    "df.isnull().sum()"
   ]
  },
  {
   "cell_type": "markdown",
   "metadata": {},
   "source": [
    "# Data Visualisation"
   ]
  },
  {
   "cell_type": "code",
   "execution_count": 6,
   "metadata": {},
   "outputs": [
    {
     "data": {
      "text/plain": [
       "<seaborn.axisgrid.PairGrid at 0x21dfcb519d0>"
      ]
     },
     "execution_count": 6,
     "metadata": {},
     "output_type": "execute_result"
    },
    {
     "data": {
      "image/png": "[encoded data removed]",
      "text/plain": [
       "<Figure size 720x720 with 20 Axes>"
      ]
     },
     "metadata": {
      "needs_background": "light"
     },
     "output_type": "display_data"
    }
   ],
   "source": [
    "sns.pairplot(df)"
   ]
  },
  {
   "cell_type": "code",
   "execution_count": 7,
   "metadata": {},
   "outputs": [
    {
     "data": {
      "text/plain": [
       "<matplotlib.axes._subplots.AxesSubplot at 0x21dfcb512e0>"
      ]
     },
     "execution_count": 7,
     "metadata": {},
     "output_type": "execute_result"
    },
    {
     "data": {
      "image/png": "[encoded data removed]",
      "text/plain": [
       "<Figure size 1080x648 with 2 Axes>"
      ]
     },
     "metadata": {
      "needs_background": "light"
     },
     "output_type": "display_data"
    }
   ],
   "source": [
    "plt.figure(figsize = (15,9))\n",
    "sns.heatmap(df.corr() , cmap = 'Blues' , annot = True)"
   ]
  },
  {
   "cell_type": "markdown",
   "metadata": {},
   "source": [
    "# One-hot encoding on State"
   ]
  },
  {
   "cell_type": "code",
   "execution_count": 8,
   "metadata": {},
   "outputs": [],
   "source": [
    "df2 = df.copy()"
   ]
  },
  {
   "cell_type": "code",
   "execution_count": 9,
   "metadata": {},
   "outputs": [
    {
     "data": {
      "text/html": [
       "<div>\n",
       "<style scoped>\n",
       "    .dataframe tbody tr th:only-of-type {\n",
       "        vertical-align: middle;\n",
       "    }\n",
       "\n",
       "    .dataframe tbody tr th {\n",
       "        vertical-align: top;\n",
       "    }\n",
       "\n",
       "    .dataframe thead th {\n",
       "        text-align: right;\n",
       "    }\n",
       "</style>\n",
       "<table border=\"1\" class=\"dataframe\">\n",
       "  <thead>\n",
       "    <tr style=\"text-align: right;\">\n",
       "      <th></th>\n",
       "      <th>R&amp;D Spend</th>\n",
       "      <th>Administration</th>\n",
       "      <th>Marketing Spend</th>\n",
       "      <th>Profit</th>\n",
       "      <th>State_Florida</th>\n",
       "      <th>State_New York</th>\n",
       "    </tr>\n",
       "  </thead>\n",
       "  <tbody>\n",
       "    <tr>\n",
       "      <th>0</th>\n",
       "      <td>165349.20</td>\n",
       "      <td>136897.80</td>\n",
       "      <td>471784.10</td>\n",
       "      <td>192261.83</td>\n",
       "      <td>0</td>\n",
       "      <td>1</td>\n",
       "    </tr>\n",
       "    <tr>\n",
       "      <th>1</th>\n",
       "      <td>162597.70</td>\n",
       "      <td>151377.59</td>\n",
       "      <td>443898.53</td>\n",
       "      <td>191792.06</td>\n",
       "      <td>0</td>\n",
       "      <td>0</td>\n",
       "    </tr>\n",
       "    <tr>\n",
       "      <th>2</th>\n",
       "      <td>153441.51</td>\n",
       "      <td>101145.55</td>\n",
       "      <td>407934.54</td>\n",
       "      <td>191050.39</td>\n",
       "      <td>1</td>\n",
       "      <td>0</td>\n",
       "    </tr>\n",
       "    <tr>\n",
       "      <th>3</th>\n",
       "      <td>144372.41</td>\n",
       "      <td>118671.85</td>\n",
       "      <td>383199.62</td>\n",
       "      <td>182901.99</td>\n",
       "      <td>0</td>\n",
       "      <td>1</td>\n",
       "    </tr>\n",
       "    <tr>\n",
       "      <th>4</th>\n",
       "      <td>142107.34</td>\n",
       "      <td>91391.77</td>\n",
       "      <td>366168.42</td>\n",
       "      <td>166187.94</td>\n",
       "      <td>1</td>\n",
       "      <td>0</td>\n",
       "    </tr>\n",
       "  </tbody>\n",
       "</table>\n",
       "</div>"
      ],
      "text/plain": [
       "   R&D Spend  Administration  Marketing Spend     Profit  State_Florida  \\\n",
       "0  165349.20       136897.80        471784.10  192261.83              0   \n",
       "1  162597.70       151377.59        443898.53  191792.06              0   \n",
       "2  153441.51       101145.55        407934.54  191050.39              1   \n",
       "3  144372.41       118671.85        383199.62  182901.99              0   \n",
       "4  142107.34        91391.77        366168.42  166187.94              1   \n",
       "\n",
       "   State_New York  \n",
       "0               1  \n",
       "1               0  \n",
       "2               0  \n",
       "3               1  \n",
       "4               0  "
      ]
     },
     "execution_count": 9,
     "metadata": {},
     "output_type": "execute_result"
    }
   ],
   "source": [
    "df2 = pd.get_dummies(data= df2, drop_first= True)\n",
    "df2.head()"
   ]
  },
  {
   "cell_type": "markdown",
   "metadata": {},
   "source": [
    "# Separating dependent and independent variables"
   ]
  },
  {
   "cell_type": "code",
   "execution_count": 10,
   "metadata": {},
   "outputs": [],
   "source": [
    "x = df2.drop('Profit', axis = 1)\n",
    "y = df2['Profit']"
   ]
  },
  {
   "cell_type": "code",
   "execution_count": 11,
   "metadata": {},
   "outputs": [
    {
     "data": {
      "text/html": [
       "<div>\n",
       "<style scoped>\n",
       "    .dataframe tbody tr th:only-of-type {\n",
       "        vertical-align: middle;\n",
       "    }\n",
       "\n",
       "    .dataframe tbody tr th {\n",
       "        vertical-align: top;\n",
       "    }\n",
       "\n",
       "    .dataframe thead th {\n",
       "        text-align: right;\n",
       "    }\n",
       "</style>\n",
       "<table border=\"1\" class=\"dataframe\">\n",
       "  <thead>\n",
       "    <tr style=\"text-align: right;\">\n",
       "      <th></th>\n",
       "      <th>R&amp;D Spend</th>\n",
       "      <th>Administration</th>\n",
       "      <th>Marketing Spend</th>\n",
       "      <th>State_Florida</th>\n",
       "      <th>State_New York</th>\n",
       "    </tr>\n",
       "  </thead>\n",
       "  <tbody>\n",
       "    <tr>\n",
       "      <th>0</th>\n",
       "      <td>165349.20</td>\n",
       "      <td>136897.80</td>\n",
       "      <td>471784.10</td>\n",
       "      <td>0</td>\n",
       "      <td>1</td>\n",
       "    </tr>\n",
       "    <tr>\n",
       "      <th>1</th>\n",
       "      <td>162597.70</td>\n",
       "      <td>151377.59</td>\n",
       "      <td>443898.53</td>\n",
       "      <td>0</td>\n",
       "      <td>0</td>\n",
       "    </tr>\n",
       "    <tr>\n",
       "      <th>2</th>\n",
       "      <td>153441.51</td>\n",
       "      <td>101145.55</td>\n",
       "      <td>407934.54</td>\n",
       "      <td>1</td>\n",
       "      <td>0</td>\n",
       "    </tr>\n",
       "    <tr>\n",
       "      <th>3</th>\n",
       "      <td>144372.41</td>\n",
       "      <td>118671.85</td>\n",
       "      <td>383199.62</td>\n",
       "      <td>0</td>\n",
       "      <td>1</td>\n",
       "    </tr>\n",
       "    <tr>\n",
       "      <th>4</th>\n",
       "      <td>142107.34</td>\n",
       "      <td>91391.77</td>\n",
       "      <td>366168.42</td>\n",
       "      <td>1</td>\n",
       "      <td>0</td>\n",
       "    </tr>\n",
       "  </tbody>\n",
       "</table>\n",
       "</div>"
      ],
      "text/plain": [
       "   R&D Spend  Administration  Marketing Spend  State_Florida  State_New York\n",
       "0  165349.20       136897.80        471784.10              0               1\n",
       "1  162597.70       151377.59        443898.53              0               0\n",
       "2  153441.51       101145.55        407934.54              1               0\n",
       "3  144372.41       118671.85        383199.62              0               1\n",
       "4  142107.34        91391.77        366168.42              1               0"
      ]
     },
     "execution_count": 11,
     "metadata": {},
     "output_type": "execute_result"
    }
   ],
   "source": [
    "x.head()"
   ]
  },
  {
   "cell_type": "code",
   "execution_count": 12,
   "metadata": {},
   "outputs": [
    {
     "data": {
      "text/plain": [
       "0    192261.83\n",
       "1    191792.06\n",
       "2    191050.39\n",
       "3    182901.99\n",
       "4    166187.94\n",
       "Name: Profit, dtype: float64"
      ]
     },
     "execution_count": 12,
     "metadata": {},
     "output_type": "execute_result"
    }
   ],
   "source": [
    "y.head()"
   ]
  },
  {
   "cell_type": "markdown",
   "metadata": {},
   "source": [
    "# Splitting data into train and test"
   ]
  },
  {
   "cell_type": "code",
   "execution_count": 13,
   "metadata": {},
   "outputs": [],
   "source": [
    "from sklearn.model_selection import train_test_split"
   ]
  },
  {
   "cell_type": "code",
   "execution_count": 14,
   "metadata": {},
   "outputs": [],
   "source": [
    "x_train , x_test , y_train , y_test = train_test_split(x,y, test_size = 0.2)"
   ]
  },
  {
   "cell_type": "markdown",
   "metadata": {},
   "source": [
    "# 1. Building model on original data"
   ]
  },
  {
   "cell_type": "code",
   "execution_count": 15,
   "metadata": {},
   "outputs": [],
   "source": [
    "import statsmodels.api as smf"
   ]
  },
  {
   "cell_type": "code",
   "execution_count": 16,
   "metadata": {},
   "outputs": [],
   "source": [
    "model1 = smf.OLS(y_train,x_train).fit()"
   ]
  },
  {
   "cell_type": "code",
   "execution_count": 17,
   "metadata": {},
   "outputs": [
    {
     "data": {
      "text/html": [
       "<table class=\"simpletable\">\n",
       "<tr>\n",
       "          <td>Model:</td>                 <td>OLS</td>       <td>Adj. R-squared (uncentered):</td>    <td>0.986</td>  \n",
       "</tr>\n",
       "<tr>\n",
       "    <td>Dependent Variable:</td>        <td>Profit</td>                  <td>AIC:</td>              <td>881.0333</td> \n",
       "</tr>\n",
       "<tr>\n",
       "           <td>Date:</td>          <td>2021-08-07 22:22</td>             <td>BIC:</td>              <td>889.4777</td> \n",
       "</tr>\n",
       "<tr>\n",
       "     <td>No. Observations:</td>           <td>40</td>               <td>Log-Likelihood:</td>         <td>-435.52</td> \n",
       "</tr>\n",
       "<tr>\n",
       "         <td>Df Model:</td>                <td>5</td>                <td>F-statistic:</td>            <td>574.4</td>  \n",
       "</tr>\n",
       "<tr>\n",
       "       <td>Df Residuals:</td>             <td>35</td>             <td>Prob (F-statistic):</td>      <td>1.54e-32</td> \n",
       "</tr>\n",
       "<tr>\n",
       "  <td>R-squared (uncentered):</td>       <td>0.988</td>                 <td>Scale:</td>            <td>1.9171e+08</td>\n",
       "</tr>\n",
       "</table>\n",
       "<table class=\"simpletable\">\n",
       "<tr>\n",
       "         <td></td>           <th>Coef.</th>   <th>Std.Err.</th>     <th>t</th>    <th>P>|t|</th>   <th>[0.025</th>     <th>0.975]</th>  \n",
       "</tr>\n",
       "<tr>\n",
       "  <th>R&D Spend</th>        <td>0.6719</td>    <td>0.0800</td>   <td>8.3948</td> <td>0.0000</td>   <td>0.5094</td>     <td>0.8343</td>  \n",
       "</tr>\n",
       "<tr>\n",
       "  <th>Administration</th>   <td>0.3188</td>    <td>0.0390</td>   <td>8.1833</td> <td>0.0000</td>   <td>0.2397</td>     <td>0.3978</td>  \n",
       "</tr>\n",
       "<tr>\n",
       "  <th>Marketing Spend</th>  <td>0.0926</td>    <td>0.0264</td>   <td>3.5102</td> <td>0.0013</td>   <td>0.0391</td>     <td>0.1462</td>  \n",
       "</tr>\n",
       "<tr>\n",
       "  <th>State_Florida</th>   <td>3267.6986</td> <td>5506.6583</td> <td>0.5934</td> <td>0.5567</td> <td>-7911.4120</td> <td>14446.8093</td>\n",
       "</tr>\n",
       "<tr>\n",
       "  <th>State_New York</th>  <td>4591.4599</td> <td>5020.4502</td> <td>0.9146</td> <td>0.3667</td> <td>-5600.5958</td> <td>14783.5156</td>\n",
       "</tr>\n",
       "</table>\n",
       "<table class=\"simpletable\">\n",
       "<tr>\n",
       "     <td>Omnibus:</td>     <td>0.811</td>  <td>Durbin-Watson:</td>    <td>2.201</td>\n",
       "</tr>\n",
       "<tr>\n",
       "  <td>Prob(Omnibus):</td>  <td>0.667</td> <td>Jarque-Bera (JB):</td>  <td>0.858</td>\n",
       "</tr>\n",
       "<tr>\n",
       "       <td>Skew:</td>     <td>-0.301</td>     <td>Prob(JB):</td>      <td>0.651</td>\n",
       "</tr>\n",
       "<tr>\n",
       "     <td>Kurtosis:</td>    <td>2.610</td>  <td>Condition No.:</td>   <td>773950</td>\n",
       "</tr>\n",
       "</table>"
      ],
      "text/plain": [
       "<class 'statsmodels.iolib.summary2.Summary'>\n",
       "\"\"\"\n",
       "                        Results: Ordinary least squares\n",
       "================================================================================\n",
       "Model:                  OLS              Adj. R-squared (uncentered): 0.986     \n",
       "Dependent Variable:     Profit           AIC:                         881.0333  \n",
       "Date:                   2021-08-07 22:22 BIC:                         889.4777  \n",
       "No. Observations:       40               Log-Likelihood:              -435.52   \n",
       "Df Model:               5                F-statistic:                 574.4     \n",
       "Df Residuals:           35               Prob (F-statistic):          1.54e-32  \n",
       "R-squared (uncentered): 0.988            Scale:                       1.9171e+08\n",
       "---------------------------------------------------------------------------------\n",
       "                       Coef.     Std.Err.    t     P>|t|     [0.025      0.975]  \n",
       "---------------------------------------------------------------------------------\n",
       "R&D Spend               0.6719     0.0800  8.3948  0.0000      0.5094      0.8343\n",
       "Administration          0.3188     0.0390  8.1833  0.0000      0.2397      0.3978\n",
       "Marketing Spend         0.0926     0.0264  3.5102  0.0013      0.0391      0.1462\n",
       "State_Florida        3267.6986  5506.6583  0.5934  0.5567  -7911.4120  14446.8093\n",
       "State_New York       4591.4599  5020.4502  0.9146  0.3667  -5600.5958  14783.5156\n",
       "--------------------------------------------------------------------------------\n",
       "Omnibus:                   0.811             Durbin-Watson:               2.201 \n",
       "Prob(Omnibus):             0.667             Jarque-Bera (JB):            0.858 \n",
       "Skew:                      -0.301            Prob(JB):                    0.651 \n",
       "Kurtosis:                  2.610             Condition No.:               773950\n",
       "================================================================================\n",
       "* The condition number is large (8e+05). This might indicate             strong\n",
       "multicollinearity or other numerical problems.\n",
       "\"\"\""
      ]
     },
     "execution_count": 17,
     "metadata": {},
     "output_type": "execute_result"
    }
   ],
   "source": [
    "model1.summary2()"
   ]
  },
  {
   "cell_type": "code",
   "execution_count": 18,
   "metadata": {},
   "outputs": [
    {
     "data": {
      "text/plain": [
       "0.9862406662326629"
      ]
     },
     "execution_count": 18,
     "metadata": {},
     "output_type": "execute_result"
    }
   ],
   "source": [
    "r2_1 = model1.rsquared_adj\n",
    "r2_1"
   ]
  },
  {
   "cell_type": "markdown",
   "metadata": {},
   "source": [
    "# 2.  Building model on data after removing State column"
   ]
  },
  {
   "cell_type": "code",
   "execution_count": 19,
   "metadata": {},
   "outputs": [
    {
     "data": {
      "text/html": [
       "<div>\n",
       "<style scoped>\n",
       "    .dataframe tbody tr th:only-of-type {\n",
       "        vertical-align: middle;\n",
       "    }\n",
       "\n",
       "    .dataframe tbody tr th {\n",
       "        vertical-align: top;\n",
       "    }\n",
       "\n",
       "    .dataframe thead th {\n",
       "        text-align: right;\n",
       "    }\n",
       "</style>\n",
       "<table border=\"1\" class=\"dataframe\">\n",
       "  <thead>\n",
       "    <tr style=\"text-align: right;\">\n",
       "      <th></th>\n",
       "      <th>R&amp;D Spend</th>\n",
       "      <th>Administration</th>\n",
       "      <th>Marketing Spend</th>\n",
       "      <th>Profit</th>\n",
       "      <th>State_Florida</th>\n",
       "      <th>State_New York</th>\n",
       "    </tr>\n",
       "  </thead>\n",
       "  <tbody>\n",
       "    <tr>\n",
       "      <th>R&amp;D Spend</th>\n",
       "      <td>1.000000</td>\n",
       "      <td>0.241955</td>\n",
       "      <td>0.724248</td>\n",
       "      <td>0.972900</td>\n",
       "      <td>0.105711</td>\n",
       "      <td>0.039068</td>\n",
       "    </tr>\n",
       "    <tr>\n",
       "      <th>Administration</th>\n",
       "      <td>0.241955</td>\n",
       "      <td>1.000000</td>\n",
       "      <td>-0.032154</td>\n",
       "      <td>0.200717</td>\n",
       "      <td>0.010493</td>\n",
       "      <td>0.005145</td>\n",
       "    </tr>\n",
       "    <tr>\n",
       "      <th>Marketing Spend</th>\n",
       "      <td>0.724248</td>\n",
       "      <td>-0.032154</td>\n",
       "      <td>1.000000</td>\n",
       "      <td>0.747766</td>\n",
       "      <td>0.205685</td>\n",
       "      <td>-0.033670</td>\n",
       "    </tr>\n",
       "    <tr>\n",
       "      <th>Profit</th>\n",
       "      <td>0.972900</td>\n",
       "      <td>0.200717</td>\n",
       "      <td>0.747766</td>\n",
       "      <td>1.000000</td>\n",
       "      <td>0.116244</td>\n",
       "      <td>0.031368</td>\n",
       "    </tr>\n",
       "    <tr>\n",
       "      <th>State_Florida</th>\n",
       "      <td>0.105711</td>\n",
       "      <td>0.010493</td>\n",
       "      <td>0.205685</td>\n",
       "      <td>0.116244</td>\n",
       "      <td>1.000000</td>\n",
       "      <td>-0.492366</td>\n",
       "    </tr>\n",
       "    <tr>\n",
       "      <th>State_New York</th>\n",
       "      <td>0.039068</td>\n",
       "      <td>0.005145</td>\n",
       "      <td>-0.033670</td>\n",
       "      <td>0.031368</td>\n",
       "      <td>-0.492366</td>\n",
       "      <td>1.000000</td>\n",
       "    </tr>\n",
       "  </tbody>\n",
       "</table>\n",
       "</div>"
      ],
      "text/plain": [
       "                 R&D Spend  Administration  Marketing Spend    Profit  \\\n",
       "R&D Spend         1.000000        0.241955         0.724248  0.972900   \n",
       "Administration    0.241955        1.000000        -0.032154  0.200717   \n",
       "Marketing Spend   0.724248       -0.032154         1.000000  0.747766   \n",
       "Profit            0.972900        0.200717         0.747766  1.000000   \n",
       "State_Florida     0.105711        0.010493         0.205685  0.116244   \n",
       "State_New York    0.039068        0.005145        -0.033670  0.031368   \n",
       "\n",
       "                 State_Florida  State_New York  \n",
       "R&D Spend             0.105711        0.039068  \n",
       "Administration        0.010493        0.005145  \n",
       "Marketing Spend       0.205685       -0.033670  \n",
       "Profit                0.116244        0.031368  \n",
       "State_Florida         1.000000       -0.492366  \n",
       "State_New York       -0.492366        1.000000  "
      ]
     },
     "execution_count": 19,
     "metadata": {},
     "output_type": "execute_result"
    }
   ],
   "source": [
    "df2.corr()"
   ]
  },
  {
   "cell_type": "markdown",
   "metadata": {},
   "source": [
    "### Since , Profit and State variables are least correlated , its better to remove State feature"
   ]
  },
  {
   "cell_type": "code",
   "execution_count": 20,
   "metadata": {},
   "outputs": [
    {
     "data": {
      "text/html": [
       "<div>\n",
       "<style scoped>\n",
       "    .dataframe tbody tr th:only-of-type {\n",
       "        vertical-align: middle;\n",
       "    }\n",
       "\n",
       "    .dataframe tbody tr th {\n",
       "        vertical-align: top;\n",
       "    }\n",
       "\n",
       "    .dataframe thead th {\n",
       "        text-align: right;\n",
       "    }\n",
       "</style>\n",
       "<table border=\"1\" class=\"dataframe\">\n",
       "  <thead>\n",
       "    <tr style=\"text-align: right;\">\n",
       "      <th></th>\n",
       "      <th>R&amp;D Spend</th>\n",
       "      <th>Administration</th>\n",
       "      <th>Marketing Spend</th>\n",
       "      <th>State_Florida</th>\n",
       "      <th>State_New York</th>\n",
       "    </tr>\n",
       "  </thead>\n",
       "  <tbody>\n",
       "    <tr>\n",
       "      <th>43</th>\n",
       "      <td>15505.73</td>\n",
       "      <td>127382.30</td>\n",
       "      <td>35534.17</td>\n",
       "      <td>0</td>\n",
       "      <td>1</td>\n",
       "    </tr>\n",
       "    <tr>\n",
       "      <th>8</th>\n",
       "      <td>120542.52</td>\n",
       "      <td>148718.95</td>\n",
       "      <td>311613.29</td>\n",
       "      <td>0</td>\n",
       "      <td>1</td>\n",
       "    </tr>\n",
       "    <tr>\n",
       "      <th>48</th>\n",
       "      <td>542.05</td>\n",
       "      <td>51743.15</td>\n",
       "      <td>0.00</td>\n",
       "      <td>0</td>\n",
       "      <td>1</td>\n",
       "    </tr>\n",
       "    <tr>\n",
       "      <th>17</th>\n",
       "      <td>94657.16</td>\n",
       "      <td>145077.58</td>\n",
       "      <td>282574.31</td>\n",
       "      <td>0</td>\n",
       "      <td>1</td>\n",
       "    </tr>\n",
       "    <tr>\n",
       "      <th>30</th>\n",
       "      <td>61994.48</td>\n",
       "      <td>115641.28</td>\n",
       "      <td>91131.24</td>\n",
       "      <td>1</td>\n",
       "      <td>0</td>\n",
       "    </tr>\n",
       "  </tbody>\n",
       "</table>\n",
       "</div>"
      ],
      "text/plain": [
       "    R&D Spend  Administration  Marketing Spend  State_Florida  State_New York\n",
       "43   15505.73       127382.30         35534.17              0               1\n",
       "8   120542.52       148718.95        311613.29              0               1\n",
       "48     542.05        51743.15             0.00              0               1\n",
       "17   94657.16       145077.58        282574.31              0               1\n",
       "30   61994.48       115641.28         91131.24              1               0"
      ]
     },
     "execution_count": 20,
     "metadata": {},
     "output_type": "execute_result"
    }
   ],
   "source": [
    "x_train.head()"
   ]
  },
  {
   "cell_type": "code",
   "execution_count": 21,
   "metadata": {},
   "outputs": [
    {
     "data": {
      "text/html": [
       "<div>\n",
       "<style scoped>\n",
       "    .dataframe tbody tr th:only-of-type {\n",
       "        vertical-align: middle;\n",
       "    }\n",
       "\n",
       "    .dataframe tbody tr th {\n",
       "        vertical-align: top;\n",
       "    }\n",
       "\n",
       "    .dataframe thead th {\n",
       "        text-align: right;\n",
       "    }\n",
       "</style>\n",
       "<table border=\"1\" class=\"dataframe\">\n",
       "  <thead>\n",
       "    <tr style=\"text-align: right;\">\n",
       "      <th></th>\n",
       "      <th>R&amp;D Spend</th>\n",
       "      <th>Administration</th>\n",
       "      <th>Marketing Spend</th>\n",
       "    </tr>\n",
       "  </thead>\n",
       "  <tbody>\n",
       "    <tr>\n",
       "      <th>43</th>\n",
       "      <td>15505.73</td>\n",
       "      <td>127382.30</td>\n",
       "      <td>35534.17</td>\n",
       "    </tr>\n",
       "    <tr>\n",
       "      <th>8</th>\n",
       "      <td>120542.52</td>\n",
       "      <td>148718.95</td>\n",
       "      <td>311613.29</td>\n",
       "    </tr>\n",
       "    <tr>\n",
       "      <th>48</th>\n",
       "      <td>542.05</td>\n",
       "      <td>51743.15</td>\n",
       "      <td>0.00</td>\n",
       "    </tr>\n",
       "    <tr>\n",
       "      <th>17</th>\n",
       "      <td>94657.16</td>\n",
       "      <td>145077.58</td>\n",
       "      <td>282574.31</td>\n",
       "    </tr>\n",
       "    <tr>\n",
       "      <th>30</th>\n",
       "      <td>61994.48</td>\n",
       "      <td>115641.28</td>\n",
       "      <td>91131.24</td>\n",
       "    </tr>\n",
       "  </tbody>\n",
       "</table>\n",
       "</div>"
      ],
      "text/plain": [
       "    R&D Spend  Administration  Marketing Spend\n",
       "43   15505.73       127382.30         35534.17\n",
       "8   120542.52       148718.95        311613.29\n",
       "48     542.05        51743.15             0.00\n",
       "17   94657.16       145077.58        282574.31\n",
       "30   61994.48       115641.28         91131.24"
      ]
     },
     "execution_count": 21,
     "metadata": {},
     "output_type": "execute_result"
    }
   ],
   "source": [
    "x_train2 = x_train.drop(['State_Florida','State_New York'], axis = 1)\n",
    "x_train2.head()"
   ]
  },
  {
   "cell_type": "code",
   "execution_count": 22,
   "metadata": {},
   "outputs": [],
   "source": [
    "model2 = smf.OLS(y_train , x_train2).fit()"
   ]
  },
  {
   "cell_type": "code",
   "execution_count": 23,
   "metadata": {},
   "outputs": [
    {
     "data": {
      "text/html": [
       "<table class=\"simpletable\">\n",
       "<tr>\n",
       "          <td>Model:</td>                 <td>OLS</td>       <td>Adj. R-squared (uncentered):</td>    <td>0.987</td>  \n",
       "</tr>\n",
       "<tr>\n",
       "    <td>Dependent Variable:</td>        <td>Profit</td>                  <td>AIC:</td>              <td>878.0423</td> \n",
       "</tr>\n",
       "<tr>\n",
       "           <td>Date:</td>          <td>2021-08-07 22:22</td>             <td>BIC:</td>              <td>883.1089</td> \n",
       "</tr>\n",
       "<tr>\n",
       "     <td>No. Observations:</td>           <td>40</td>               <td>Log-Likelihood:</td>         <td>-436.02</td> \n",
       "</tr>\n",
       "<tr>\n",
       "         <td>Df Model:</td>                <td>3</td>                <td>F-statistic:</td>            <td>986.6</td>  \n",
       "</tr>\n",
       "<tr>\n",
       "       <td>Df Residuals:</td>             <td>37</td>             <td>Prob (F-statistic):</td>      <td>2.43e-35</td> \n",
       "</tr>\n",
       "<tr>\n",
       "  <td>R-squared (uncentered):</td>       <td>0.988</td>                 <td>Scale:</td>            <td>1.8598e+08</td>\n",
       "</tr>\n",
       "</table>\n",
       "<table class=\"simpletable\">\n",
       "<tr>\n",
       "         <td></td>          <th>Coef.</th> <th>Std.Err.</th>    <th>t</th>    <th>P>|t|</th> <th>[0.025</th> <th>0.975]</th>\n",
       "</tr>\n",
       "<tr>\n",
       "  <th>R&D Spend</th>       <td>0.6738</td>  <td>0.0788</td>  <td>8.5534</td> <td>0.0000</td> <td>0.5142</td> <td>0.8335</td>\n",
       "</tr>\n",
       "<tr>\n",
       "  <th>Administration</th>  <td>0.3325</td>  <td>0.0356</td>  <td>9.3355</td> <td>0.0000</td> <td>0.2603</td> <td>0.4046</td>\n",
       "</tr>\n",
       "<tr>\n",
       "  <th>Marketing Spend</th> <td>0.0949</td>  <td>0.0257</td>  <td>3.6895</td> <td>0.0007</td> <td>0.0428</td> <td>0.1470</td>\n",
       "</tr>\n",
       "</table>\n",
       "<table class=\"simpletable\">\n",
       "<tr>\n",
       "     <td>Omnibus:</td>     <td>0.367</td>  <td>Durbin-Watson:</td>   <td>2.246</td>\n",
       "</tr>\n",
       "<tr>\n",
       "  <td>Prob(Omnibus):</td>  <td>0.832</td> <td>Jarque-Bera (JB):</td> <td>0.478</td>\n",
       "</tr>\n",
       "<tr>\n",
       "       <td>Skew:</td>     <td>-0.201</td>     <td>Prob(JB):</td>     <td>0.788</td>\n",
       "</tr>\n",
       "<tr>\n",
       "     <td>Kurtosis:</td>    <td>2.647</td>  <td>Condition No.:</td>    <td>10</td>  \n",
       "</tr>\n",
       "</table>"
      ],
      "text/plain": [
       "<class 'statsmodels.iolib.summary2.Summary'>\n",
       "\"\"\"\n",
       "                        Results: Ordinary least squares\n",
       "================================================================================\n",
       "Model:                  OLS              Adj. R-squared (uncentered): 0.987     \n",
       "Dependent Variable:     Profit           AIC:                         878.0423  \n",
       "Date:                   2021-08-07 22:22 BIC:                         883.1089  \n",
       "No. Observations:       40               Log-Likelihood:              -436.02   \n",
       "Df Model:               3                F-statistic:                 986.6     \n",
       "Df Residuals:           37               Prob (F-statistic):          2.43e-35  \n",
       "R-squared (uncentered): 0.988            Scale:                       1.8598e+08\n",
       "------------------------------------------------------------------------------------\n",
       "                     Coef.      Std.Err.       t        P>|t|      [0.025     0.975]\n",
       "------------------------------------------------------------------------------------\n",
       "R&D Spend            0.6738       0.0788     8.5534     0.0000     0.5142     0.8335\n",
       "Administration       0.3325       0.0356     9.3355     0.0000     0.2603     0.4046\n",
       "Marketing Spend      0.0949       0.0257     3.6895     0.0007     0.0428     0.1470\n",
       "--------------------------------------------------------------------------------\n",
       "Omnibus:                    0.367             Durbin-Watson:               2.246\n",
       "Prob(Omnibus):              0.832             Jarque-Bera (JB):            0.478\n",
       "Skew:                       -0.201            Prob(JB):                    0.788\n",
       "Kurtosis:                   2.647             Condition No.:               10   \n",
       "================================================================================\n",
       "\n",
       "\"\"\""
      ]
     },
     "execution_count": 23,
     "metadata": {},
     "output_type": "execute_result"
    }
   ],
   "source": [
    "model2.summary2()"
   ]
  },
  {
   "cell_type": "code",
   "execution_count": 24,
   "metadata": {},
   "outputs": [
    {
     "data": {
      "text/plain": [
       "0.986651938087272"
      ]
     },
     "execution_count": 24,
     "metadata": {},
     "output_type": "execute_result"
    }
   ],
   "source": [
    "r2_2 = model2.rsquared_adj\n",
    "r2_2"
   ]
  },
  {
   "cell_type": "code",
   "execution_count": 25,
   "metadata": {},
   "outputs": [],
   "source": [
    "# log , sqrt , standard , normal "
   ]
  },
  {
   "cell_type": "markdown",
   "metadata": {},
   "source": [
    "# 3. Building Model on Log transformed data"
   ]
  },
  {
   "cell_type": "code",
   "execution_count": 26,
   "metadata": {},
   "outputs": [],
   "source": [
    "df3 = df2.copy()"
   ]
  },
  {
   "cell_type": "code",
   "execution_count": 27,
   "metadata": {},
   "outputs": [
    {
     "data": {
      "text/html": [
       "<div>\n",
       "<style scoped>\n",
       "    .dataframe tbody tr th:only-of-type {\n",
       "        vertical-align: middle;\n",
       "    }\n",
       "\n",
       "    .dataframe tbody tr th {\n",
       "        vertical-align: top;\n",
       "    }\n",
       "\n",
       "    .dataframe thead th {\n",
       "        text-align: right;\n",
       "    }\n",
       "</style>\n",
       "<table border=\"1\" class=\"dataframe\">\n",
       "  <thead>\n",
       "    <tr style=\"text-align: right;\">\n",
       "      <th></th>\n",
       "      <th>R&amp;D Spend</th>\n",
       "      <th>Administration</th>\n",
       "      <th>Marketing Spend</th>\n",
       "      <th>Profit</th>\n",
       "      <th>State_Florida</th>\n",
       "      <th>State_New York</th>\n",
       "    </tr>\n",
       "  </thead>\n",
       "  <tbody>\n",
       "    <tr>\n",
       "      <th>0</th>\n",
       "      <td>165349.20</td>\n",
       "      <td>136897.80</td>\n",
       "      <td>471784.10</td>\n",
       "      <td>192261.83</td>\n",
       "      <td>0</td>\n",
       "      <td>1</td>\n",
       "    </tr>\n",
       "    <tr>\n",
       "      <th>1</th>\n",
       "      <td>162597.70</td>\n",
       "      <td>151377.59</td>\n",
       "      <td>443898.53</td>\n",
       "      <td>191792.06</td>\n",
       "      <td>0</td>\n",
       "      <td>0</td>\n",
       "    </tr>\n",
       "    <tr>\n",
       "      <th>2</th>\n",
       "      <td>153441.51</td>\n",
       "      <td>101145.55</td>\n",
       "      <td>407934.54</td>\n",
       "      <td>191050.39</td>\n",
       "      <td>1</td>\n",
       "      <td>0</td>\n",
       "    </tr>\n",
       "    <tr>\n",
       "      <th>3</th>\n",
       "      <td>144372.41</td>\n",
       "      <td>118671.85</td>\n",
       "      <td>383199.62</td>\n",
       "      <td>182901.99</td>\n",
       "      <td>0</td>\n",
       "      <td>1</td>\n",
       "    </tr>\n",
       "    <tr>\n",
       "      <th>4</th>\n",
       "      <td>142107.34</td>\n",
       "      <td>91391.77</td>\n",
       "      <td>366168.42</td>\n",
       "      <td>166187.94</td>\n",
       "      <td>1</td>\n",
       "      <td>0</td>\n",
       "    </tr>\n",
       "  </tbody>\n",
       "</table>\n",
       "</div>"
      ],
      "text/plain": [
       "   R&D Spend  Administration  Marketing Spend     Profit  State_Florida  \\\n",
       "0  165349.20       136897.80        471784.10  192261.83              0   \n",
       "1  162597.70       151377.59        443898.53  191792.06              0   \n",
       "2  153441.51       101145.55        407934.54  191050.39              1   \n",
       "3  144372.41       118671.85        383199.62  182901.99              0   \n",
       "4  142107.34        91391.77        366168.42  166187.94              1   \n",
       "\n",
       "   State_New York  \n",
       "0               1  \n",
       "1               0  \n",
       "2               0  \n",
       "3               1  \n",
       "4               0  "
      ]
     },
     "execution_count": 27,
     "metadata": {},
     "output_type": "execute_result"
    }
   ],
   "source": [
    "df3.head()"
   ]
  },
  {
   "cell_type": "code",
   "execution_count": 28,
   "metadata": {},
   "outputs": [
    {
     "data": {
      "text/html": [
       "<div>\n",
       "<style scoped>\n",
       "    .dataframe tbody tr th:only-of-type {\n",
       "        vertical-align: middle;\n",
       "    }\n",
       "\n",
       "    .dataframe tbody tr th {\n",
       "        vertical-align: top;\n",
       "    }\n",
       "\n",
       "    .dataframe thead th {\n",
       "        text-align: right;\n",
       "    }\n",
       "</style>\n",
       "<table border=\"1\" class=\"dataframe\">\n",
       "  <thead>\n",
       "    <tr style=\"text-align: right;\">\n",
       "      <th></th>\n",
       "      <th>R&amp;D Spend</th>\n",
       "      <th>Administration</th>\n",
       "      <th>Marketing Spend</th>\n",
       "      <th>Profit</th>\n",
       "    </tr>\n",
       "  </thead>\n",
       "  <tbody>\n",
       "    <tr>\n",
       "      <th>0</th>\n",
       "      <td>165349.20</td>\n",
       "      <td>136897.80</td>\n",
       "      <td>471784.10</td>\n",
       "      <td>192261.83</td>\n",
       "    </tr>\n",
       "    <tr>\n",
       "      <th>1</th>\n",
       "      <td>162597.70</td>\n",
       "      <td>151377.59</td>\n",
       "      <td>443898.53</td>\n",
       "      <td>191792.06</td>\n",
       "    </tr>\n",
       "    <tr>\n",
       "      <th>2</th>\n",
       "      <td>153441.51</td>\n",
       "      <td>101145.55</td>\n",
       "      <td>407934.54</td>\n",
       "      <td>191050.39</td>\n",
       "    </tr>\n",
       "    <tr>\n",
       "      <th>3</th>\n",
       "      <td>144372.41</td>\n",
       "      <td>118671.85</td>\n",
       "      <td>383199.62</td>\n",
       "      <td>182901.99</td>\n",
       "    </tr>\n",
       "    <tr>\n",
       "      <th>4</th>\n",
       "      <td>142107.34</td>\n",
       "      <td>91391.77</td>\n",
       "      <td>366168.42</td>\n",
       "      <td>166187.94</td>\n",
       "    </tr>\n",
       "  </tbody>\n",
       "</table>\n",
       "</div>"
      ],
      "text/plain": [
       "   R&D Spend  Administration  Marketing Spend     Profit\n",
       "0  165349.20       136897.80        471784.10  192261.83\n",
       "1  162597.70       151377.59        443898.53  191792.06\n",
       "2  153441.51       101145.55        407934.54  191050.39\n",
       "3  144372.41       118671.85        383199.62  182901.99\n",
       "4  142107.34        91391.77        366168.42  166187.94"
      ]
     },
     "execution_count": 28,
     "metadata": {},
     "output_type": "execute_result"
    }
   ],
   "source": [
    "df3 = df3.drop(['State_Florida','State_New York'], axis = 1)\n",
    "df3.head()"
   ]
  },
  {
   "cell_type": "code",
   "execution_count": 29,
   "metadata": {},
   "outputs": [],
   "source": [
    "df3.iloc[:,-1] = np.log(df3.iloc[:,-1])"
   ]
  },
  {
   "cell_type": "code",
   "execution_count": 30,
   "metadata": {},
   "outputs": [
    {
     "data": {
      "text/html": [
       "<div>\n",
       "<style scoped>\n",
       "    .dataframe tbody tr th:only-of-type {\n",
       "        vertical-align: middle;\n",
       "    }\n",
       "\n",
       "    .dataframe tbody tr th {\n",
       "        vertical-align: top;\n",
       "    }\n",
       "\n",
       "    .dataframe thead th {\n",
       "        text-align: right;\n",
       "    }\n",
       "</style>\n",
       "<table border=\"1\" class=\"dataframe\">\n",
       "  <thead>\n",
       "    <tr style=\"text-align: right;\">\n",
       "      <th></th>\n",
       "      <th>R&amp;D Spend</th>\n",
       "      <th>Administration</th>\n",
       "      <th>Marketing Spend</th>\n",
       "      <th>Profit</th>\n",
       "    </tr>\n",
       "  </thead>\n",
       "  <tbody>\n",
       "    <tr>\n",
       "      <th>0</th>\n",
       "      <td>165349.20</td>\n",
       "      <td>136897.80</td>\n",
       "      <td>471784.10</td>\n",
       "      <td>12.166613</td>\n",
       "    </tr>\n",
       "    <tr>\n",
       "      <th>1</th>\n",
       "      <td>162597.70</td>\n",
       "      <td>151377.59</td>\n",
       "      <td>443898.53</td>\n",
       "      <td>12.164167</td>\n",
       "    </tr>\n",
       "    <tr>\n",
       "      <th>2</th>\n",
       "      <td>153441.51</td>\n",
       "      <td>101145.55</td>\n",
       "      <td>407934.54</td>\n",
       "      <td>12.160292</td>\n",
       "    </tr>\n",
       "    <tr>\n",
       "      <th>3</th>\n",
       "      <td>144372.41</td>\n",
       "      <td>118671.85</td>\n",
       "      <td>383199.62</td>\n",
       "      <td>12.116706</td>\n",
       "    </tr>\n",
       "    <tr>\n",
       "      <th>4</th>\n",
       "      <td>142107.34</td>\n",
       "      <td>91391.77</td>\n",
       "      <td>366168.42</td>\n",
       "      <td>12.020875</td>\n",
       "    </tr>\n",
       "  </tbody>\n",
       "</table>\n",
       "</div>"
      ],
      "text/plain": [
       "   R&D Spend  Administration  Marketing Spend     Profit\n",
       "0  165349.20       136897.80        471784.10  12.166613\n",
       "1  162597.70       151377.59        443898.53  12.164167\n",
       "2  153441.51       101145.55        407934.54  12.160292\n",
       "3  144372.41       118671.85        383199.62  12.116706\n",
       "4  142107.34        91391.77        366168.42  12.020875"
      ]
     },
     "execution_count": 30,
     "metadata": {},
     "output_type": "execute_result"
    }
   ],
   "source": [
    "df3.head()"
   ]
  },
  {
   "cell_type": "code",
   "execution_count": 31,
   "metadata": {},
   "outputs": [],
   "source": [
    "x3 = df3.drop('Profit' , axis = 1)\n",
    "y3 = df3['Profit']"
   ]
  },
  {
   "cell_type": "code",
   "execution_count": 32,
   "metadata": {},
   "outputs": [],
   "source": [
    "x_train3 , x_test3 , y_train3 , y_test3 = train_test_split(x3,y3, test_size = 0.2)"
   ]
  },
  {
   "cell_type": "code",
   "execution_count": 33,
   "metadata": {},
   "outputs": [],
   "source": [
    "model3 = smf.OLS(y_train3 , x_train3).fit()"
   ]
  },
  {
   "cell_type": "code",
   "execution_count": 34,
   "metadata": {},
   "outputs": [
    {
     "data": {
      "text/html": [
       "<table class=\"simpletable\">\n",
       "<tr>\n",
       "          <td>Model:</td>                 <td>OLS</td>       <td>Adj. R-squared (uncentered):</td>   <td>0.967</td> \n",
       "</tr>\n",
       "<tr>\n",
       "    <td>Dependent Variable:</td>        <td>Profit</td>                  <td>AIC:</td>             <td>175.3800</td>\n",
       "</tr>\n",
       "<tr>\n",
       "           <td>Date:</td>          <td>2021-08-07 22:22</td>             <td>BIC:</td>             <td>180.4466</td>\n",
       "</tr>\n",
       "<tr>\n",
       "     <td>No. Observations:</td>           <td>40</td>               <td>Log-Likelihood:</td>        <td>-84.690</td>\n",
       "</tr>\n",
       "<tr>\n",
       "         <td>Df Model:</td>                <td>3</td>                <td>F-statistic:</td>           <td>393.7</td> \n",
       "</tr>\n",
       "<tr>\n",
       "       <td>Df Residuals:</td>             <td>37</td>             <td>Prob (F-statistic):</td>     <td>4.11e-28</td>\n",
       "</tr>\n",
       "<tr>\n",
       "  <td>R-squared (uncentered):</td>       <td>0.970</td>                 <td>Scale:</td>             <td>4.3692</td> \n",
       "</tr>\n",
       "</table>\n",
       "<table class=\"simpletable\">\n",
       "<tr>\n",
       "         <td></td>          <th>Coef.</th>  <th>Std.Err.</th>    <th>t</th>     <th>P>|t|</th> <th>[0.025</th>  <th>0.975]</th>\n",
       "</tr>\n",
       "<tr>\n",
       "  <th>R&D Spend</th>       <td>-0.0000</td>  <td>0.0000</td>  <td>-1.0687</td> <td>0.2921</td> <td>-0.0000</td> <td>0.0000</td>\n",
       "</tr>\n",
       "<tr>\n",
       "  <th>Administration</th>  <td>0.0001</td>   <td>0.0000</td>  <td>14.9075</td> <td>0.0000</td> <td>0.0001</td>  <td>0.0001</td>\n",
       "</tr>\n",
       "<tr>\n",
       "  <th>Marketing Spend</th> <td>0.0000</td>   <td>0.0000</td>  <td>3.4809</td>  <td>0.0013</td> <td>0.0000</td>  <td>0.0000</td>\n",
       "</tr>\n",
       "</table>\n",
       "<table class=\"simpletable\">\n",
       "<tr>\n",
       "     <td>Omnibus:</td>    <td>6.173</td>  <td>Durbin-Watson:</td>   <td>1.866</td>\n",
       "</tr>\n",
       "<tr>\n",
       "  <td>Prob(Omnibus):</td> <td>0.046</td> <td>Jarque-Bera (JB):</td> <td>4.807</td>\n",
       "</tr>\n",
       "<tr>\n",
       "       <td>Skew:</td>     <td>0.717</td>     <td>Prob(JB):</td>     <td>0.090</td>\n",
       "</tr>\n",
       "<tr>\n",
       "     <td>Kurtosis:</td>   <td>3.909</td>  <td>Condition No.:</td>     <td>9</td>  \n",
       "</tr>\n",
       "</table>"
      ],
      "text/plain": [
       "<class 'statsmodels.iolib.summary2.Summary'>\n",
       "\"\"\"\n",
       "                       Results: Ordinary least squares\n",
       "==============================================================================\n",
       "Model:                  OLS              Adj. R-squared (uncentered): 0.967   \n",
       "Dependent Variable:     Profit           AIC:                         175.3800\n",
       "Date:                   2021-08-07 22:22 BIC:                         180.4466\n",
       "No. Observations:       40               Log-Likelihood:              -84.690 \n",
       "Df Model:               3                F-statistic:                 393.7   \n",
       "Df Residuals:           37               Prob (F-statistic):          4.11e-28\n",
       "R-squared (uncentered): 0.970            Scale:                       4.3692  \n",
       "---------------------------------------------------------------------------------\n",
       "                     Coef.     Std.Err.       t       P>|t|      [0.025    0.975]\n",
       "---------------------------------------------------------------------------------\n",
       "R&D Spend           -0.0000      0.0000    -1.0687    0.2921    -0.0000    0.0000\n",
       "Administration       0.0001      0.0000    14.9075    0.0000     0.0001    0.0001\n",
       "Marketing Spend      0.0000      0.0000     3.4809    0.0013     0.0000    0.0000\n",
       "------------------------------------------------------------------------------\n",
       "Omnibus:                   6.173            Durbin-Watson:               1.866\n",
       "Prob(Omnibus):             0.046            Jarque-Bera (JB):            4.807\n",
       "Skew:                      0.717            Prob(JB):                    0.090\n",
       "Kurtosis:                  3.909            Condition No.:               9    \n",
       "==============================================================================\n",
       "\n",
       "\"\"\""
      ]
     },
     "execution_count": 34,
     "metadata": {},
     "output_type": "execute_result"
    }
   ],
   "source": [
    "model3.summary2()"
   ]
  },
  {
   "cell_type": "code",
   "execution_count": 35,
   "metadata": {},
   "outputs": [
    {
     "data": {
      "text/plain": [
       "0.9671656319798309"
      ]
     },
     "execution_count": 35,
     "metadata": {},
     "output_type": "execute_result"
    }
   ],
   "source": [
    "r2_3 = model3.rsquared_adj\n",
    "r2_3"
   ]
  },
  {
   "cell_type": "markdown",
   "metadata": {},
   "source": [
    "# 4. Building Model on Sqrt transformed data "
   ]
  },
  {
   "cell_type": "code",
   "execution_count": 36,
   "metadata": {},
   "outputs": [
    {
     "data": {
      "text/plain": [
       "43     69758.98\n",
       "8     152211.77\n",
       "48     35673.41\n",
       "17    125370.37\n",
       "30     99937.59\n",
       "Name: Profit, dtype: float64"
      ]
     },
     "execution_count": 36,
     "metadata": {},
     "output_type": "execute_result"
    }
   ],
   "source": [
    "y_train.head()"
   ]
  },
  {
   "cell_type": "code",
   "execution_count": 37,
   "metadata": {},
   "outputs": [
    {
     "data": {
      "text/plain": [
       "43    264.119253\n",
       "8     390.143269\n",
       "48    188.874059\n",
       "17    354.076785\n",
       "30    316.129072\n",
       "Name: Profit, dtype: float64"
      ]
     },
     "execution_count": 37,
     "metadata": {},
     "output_type": "execute_result"
    }
   ],
   "source": [
    "y_train4 = np.sqrt(y_train)\n",
    "y_train4.head()"
   ]
  },
  {
   "cell_type": "code",
   "execution_count": 38,
   "metadata": {},
   "outputs": [
    {
     "data": {
      "text/html": [
       "<div>\n",
       "<style scoped>\n",
       "    .dataframe tbody tr th:only-of-type {\n",
       "        vertical-align: middle;\n",
       "    }\n",
       "\n",
       "    .dataframe tbody tr th {\n",
       "        vertical-align: top;\n",
       "    }\n",
       "\n",
       "    .dataframe thead th {\n",
       "        text-align: right;\n",
       "    }\n",
       "</style>\n",
       "<table border=\"1\" class=\"dataframe\">\n",
       "  <thead>\n",
       "    <tr style=\"text-align: right;\">\n",
       "      <th></th>\n",
       "      <th>R&amp;D Spend</th>\n",
       "      <th>Administration</th>\n",
       "      <th>Marketing Spend</th>\n",
       "    </tr>\n",
       "  </thead>\n",
       "  <tbody>\n",
       "    <tr>\n",
       "      <th>43</th>\n",
       "      <td>15505.73</td>\n",
       "      <td>127382.30</td>\n",
       "      <td>35534.17</td>\n",
       "    </tr>\n",
       "    <tr>\n",
       "      <th>8</th>\n",
       "      <td>120542.52</td>\n",
       "      <td>148718.95</td>\n",
       "      <td>311613.29</td>\n",
       "    </tr>\n",
       "    <tr>\n",
       "      <th>48</th>\n",
       "      <td>542.05</td>\n",
       "      <td>51743.15</td>\n",
       "      <td>0.00</td>\n",
       "    </tr>\n",
       "  </tbody>\n",
       "</table>\n",
       "</div>"
      ],
      "text/plain": [
       "    R&D Spend  Administration  Marketing Spend\n",
       "43   15505.73       127382.30         35534.17\n",
       "8   120542.52       148718.95        311613.29\n",
       "48     542.05        51743.15             0.00"
      ]
     },
     "execution_count": 38,
     "metadata": {},
     "output_type": "execute_result"
    }
   ],
   "source": [
    "x_train2.head(3)"
   ]
  },
  {
   "cell_type": "code",
   "execution_count": 39,
   "metadata": {},
   "outputs": [],
   "source": [
    "model4 = smf.OLS(y_train4 , x_train2).fit()"
   ]
  },
  {
   "cell_type": "code",
   "execution_count": 40,
   "metadata": {},
   "outputs": [
    {
     "data": {
      "text/html": [
       "<table class=\"simpletable\">\n",
       "<tr>\n",
       "          <td>Model:</td>                 <td>OLS</td>       <td>Adj. R-squared (uncentered):</td>   <td>0.975</td> \n",
       "</tr>\n",
       "<tr>\n",
       "    <td>Dependent Variable:</td>        <td>Profit</td>                  <td>AIC:</td>             <td>433.1496</td>\n",
       "</tr>\n",
       "<tr>\n",
       "           <td>Date:</td>          <td>2021-08-07 22:22</td>             <td>BIC:</td>             <td>438.2162</td>\n",
       "</tr>\n",
       "<tr>\n",
       "     <td>No. Observations:</td>           <td>40</td>               <td>Log-Likelihood:</td>        <td>-213.57</td>\n",
       "</tr>\n",
       "<tr>\n",
       "         <td>Df Model:</td>                <td>3</td>                <td>F-statistic:</td>           <td>529.7</td> \n",
       "</tr>\n",
       "<tr>\n",
       "       <td>Df Residuals:</td>             <td>37</td>             <td>Prob (F-statistic):</td>     <td>1.98e-30</td>\n",
       "</tr>\n",
       "<tr>\n",
       "  <td>R-squared (uncentered):</td>       <td>0.977</td>                 <td>Scale:</td>             <td>2748.5</td> \n",
       "</tr>\n",
       "</table>\n",
       "<table class=\"simpletable\">\n",
       "<tr>\n",
       "         <td></td>          <th>Coef.</th> <th>Std.Err.</th>    <th>t</th>     <th>P>|t|</th> <th>[0.025</th> <th>0.975]</th>\n",
       "</tr>\n",
       "<tr>\n",
       "  <th>R&D Spend</th>       <td>0.0007</td>  <td>0.0003</td>  <td>2.4533</td>  <td>0.0190</td> <td>0.0001</td> <td>0.0014</td>\n",
       "</tr>\n",
       "<tr>\n",
       "  <th>Administration</th>  <td>0.0016</td>  <td>0.0001</td>  <td>11.7706</td> <td>0.0000</td> <td>0.0013</td> <td>0.0019</td>\n",
       "</tr>\n",
       "<tr>\n",
       "  <th>Marketing Spend</th> <td>0.0003</td>  <td>0.0001</td>  <td>3.3227</td>  <td>0.0020</td> <td>0.0001</td> <td>0.0005</td>\n",
       "</tr>\n",
       "</table>\n",
       "<table class=\"simpletable\">\n",
       "<tr>\n",
       "     <td>Omnibus:</td>    <td>0.521</td>  <td>Durbin-Watson:</td>   <td>2.231</td>\n",
       "</tr>\n",
       "<tr>\n",
       "  <td>Prob(Omnibus):</td> <td>0.771</td> <td>Jarque-Bera (JB):</td> <td>0.657</td>\n",
       "</tr>\n",
       "<tr>\n",
       "       <td>Skew:</td>     <td>0.183</td>     <td>Prob(JB):</td>     <td>0.720</td>\n",
       "</tr>\n",
       "<tr>\n",
       "     <td>Kurtosis:</td>   <td>2.489</td>  <td>Condition No.:</td>    <td>10</td>  \n",
       "</tr>\n",
       "</table>"
      ],
      "text/plain": [
       "<class 'statsmodels.iolib.summary2.Summary'>\n",
       "\"\"\"\n",
       "                       Results: Ordinary least squares\n",
       "==============================================================================\n",
       "Model:                  OLS              Adj. R-squared (uncentered): 0.975   \n",
       "Dependent Variable:     Profit           AIC:                         433.1496\n",
       "Date:                   2021-08-07 22:22 BIC:                         438.2162\n",
       "No. Observations:       40               Log-Likelihood:              -213.57 \n",
       "Df Model:               3                F-statistic:                 529.7   \n",
       "Df Residuals:           37               Prob (F-statistic):          1.98e-30\n",
       "R-squared (uncentered): 0.977            Scale:                       2748.5  \n",
       "---------------------------------------------------------------------------------\n",
       "                      Coef.     Std.Err.       t       P>|t|     [0.025    0.975]\n",
       "---------------------------------------------------------------------------------\n",
       "R&D Spend             0.0007      0.0003     2.4533    0.0190    0.0001    0.0014\n",
       "Administration        0.0016      0.0001    11.7706    0.0000    0.0013    0.0019\n",
       "Marketing Spend       0.0003      0.0001     3.3227    0.0020    0.0001    0.0005\n",
       "------------------------------------------------------------------------------\n",
       "Omnibus:                   0.521            Durbin-Watson:               2.231\n",
       "Prob(Omnibus):             0.771            Jarque-Bera (JB):            0.657\n",
       "Skew:                      0.183            Prob(JB):                    0.720\n",
       "Kurtosis:                  2.489            Condition No.:               10   \n",
       "==============================================================================\n",
       "\n",
       "\"\"\""
      ]
     },
     "execution_count": 40,
     "metadata": {},
     "output_type": "execute_result"
    }
   ],
   "source": [
    "model4.summary2()"
   ]
  },
  {
   "cell_type": "code",
   "execution_count": 41,
   "metadata": {},
   "outputs": [
    {
     "data": {
      "text/plain": [
       "0.9753994625152052"
      ]
     },
     "execution_count": 41,
     "metadata": {},
     "output_type": "execute_result"
    }
   ],
   "source": [
    "r2_4 = model4.rsquared_adj\n",
    "r2_4"
   ]
  },
  {
   "cell_type": "markdown",
   "metadata": {},
   "source": [
    "# 5. Building Model on Standard scaling data"
   ]
  },
  {
   "cell_type": "code",
   "execution_count": 42,
   "metadata": {},
   "outputs": [],
   "source": [
    "from sklearn.preprocessing import StandardScaler"
   ]
  },
  {
   "cell_type": "code",
   "execution_count": 43,
   "metadata": {},
   "outputs": [],
   "source": [
    "sc = StandardScaler()"
   ]
  },
  {
   "cell_type": "code",
   "execution_count": 44,
   "metadata": {},
   "outputs": [],
   "source": [
    "y_train5 = np.array(y_train).reshape(-1,1)\n",
    "y_train5 = sc.fit_transform(y_train5)"
   ]
  },
  {
   "cell_type": "code",
   "execution_count": 45,
   "metadata": {},
   "outputs": [],
   "source": [
    "x_train6 = sc.fit_transform(x_train2)"
   ]
  },
  {
   "cell_type": "code",
   "execution_count": 46,
   "metadata": {},
   "outputs": [
    {
     "data": {
      "text/plain": [
       "array([[-1.35425274,  0.15310411, -1.39456506],\n",
       "       [ 1.07764078,  0.89534679,  0.93872547],\n",
       "       [-1.7007035 , -2.47817145, -1.69488311],\n",
       "       [ 0.47832277,  0.76867366,  0.69330171],\n",
       "       [-0.27790901, -0.25533331, -0.92468484]])"
      ]
     },
     "execution_count": 46,
     "metadata": {},
     "output_type": "execute_result"
    }
   ],
   "source": [
    "x_train6[:5]"
   ]
  },
  {
   "cell_type": "code",
   "execution_count": 47,
   "metadata": {},
   "outputs": [],
   "source": [
    "model6 = smf.OLS(y_train5 , x_train6).fit()"
   ]
  },
  {
   "cell_type": "code",
   "execution_count": 48,
   "metadata": {},
   "outputs": [
    {
     "data": {
      "text/html": [
       "<table class=\"simpletable\">\n",
       "<tr>\n",
       "          <td>Model:</td>                 <td>OLS</td>       <td>Adj. R-squared (uncentered):</td>   <td>0.940</td> \n",
       "</tr>\n",
       "<tr>\n",
       "    <td>Dependent Variable:</td>           <td>y</td>                    <td>AIC:</td>              <td>4.0170</td> \n",
       "</tr>\n",
       "<tr>\n",
       "           <td>Date:</td>          <td>2021-08-07 22:22</td>             <td>BIC:</td>              <td>9.0837</td> \n",
       "</tr>\n",
       "<tr>\n",
       "     <td>No. Observations:</td>           <td>40</td>               <td>Log-Likelihood:</td>        <td>0.99149</td>\n",
       "</tr>\n",
       "<tr>\n",
       "         <td>Df Model:</td>                <td>3</td>                <td>F-statistic:</td>           <td>209.0</td> \n",
       "</tr>\n",
       "<tr>\n",
       "       <td>Df Residuals:</td>             <td>37</td>             <td>Prob (F-statistic):</td>     <td>3.05e-23</td>\n",
       "</tr>\n",
       "<tr>\n",
       "  <td>R-squared (uncentered):</td>       <td>0.944</td>                 <td>Scale:</td>            <td>0.060236</td>\n",
       "</tr>\n",
       "</table>\n",
       "<table class=\"simpletable\">\n",
       "<tr>\n",
       "   <td></td>   <th>Coef.</th>  <th>Std.Err.</th>    <th>t</th>     <th>P>|t|</th> <th>[0.025</th>  <th>0.975]</th>\n",
       "</tr>\n",
       "<tr>\n",
       "  <th>x1</th> <td>0.8771</td>   <td>0.0637</td>  <td>13.7743</td> <td>0.0000</td> <td>0.7481</td>  <td>1.0061</td>\n",
       "</tr>\n",
       "<tr>\n",
       "  <th>x2</th> <td>-0.0022</td>  <td>0.0433</td>  <td>-0.0499</td> <td>0.9605</td> <td>-0.0898</td> <td>0.0855</td>\n",
       "</tr>\n",
       "<tr>\n",
       "  <th>x3</th> <td>0.1248</td>   <td>0.0608</td>  <td>2.0541</td>  <td>0.0471</td> <td>0.0017</td>  <td>0.2479</td>\n",
       "</tr>\n",
       "</table>\n",
       "<table class=\"simpletable\">\n",
       "<tr>\n",
       "     <td>Omnibus:</td>    <td>18.341</td>  <td>Durbin-Watson:</td>    <td>2.060</td>\n",
       "</tr>\n",
       "<tr>\n",
       "  <td>Prob(Omnibus):</td>  <td>0.000</td> <td>Jarque-Bera (JB):</td> <td>27.167</td>\n",
       "</tr>\n",
       "<tr>\n",
       "       <td>Skew:</td>     <td>-1.297</td>     <td>Prob(JB):</td>      <td>0.000</td>\n",
       "</tr>\n",
       "<tr>\n",
       "     <td>Kurtosis:</td>    <td>6.094</td>  <td>Condition No.:</td>      <td>3</td>  \n",
       "</tr>\n",
       "</table>"
      ],
      "text/plain": [
       "<class 'statsmodels.iolib.summary2.Summary'>\n",
       "\"\"\"\n",
       "                       Results: Ordinary least squares\n",
       "==============================================================================\n",
       "Model:                  OLS              Adj. R-squared (uncentered): 0.940   \n",
       "Dependent Variable:     y                AIC:                         4.0170  \n",
       "Date:                   2021-08-07 22:22 BIC:                         9.0837  \n",
       "No. Observations:       40               Log-Likelihood:              0.99149 \n",
       "Df Model:               3                F-statistic:                 209.0   \n",
       "Df Residuals:           37               Prob (F-statistic):          3.05e-23\n",
       "R-squared (uncentered): 0.944            Scale:                       0.060236\n",
       "-----------------------------------------------------------------------------------\n",
       "             Coef.       Std.Err.         t         P>|t|        [0.025      0.975]\n",
       "-----------------------------------------------------------------------------------\n",
       "x1           0.8771        0.0637      13.7743      0.0000       0.7481      1.0061\n",
       "x2          -0.0022        0.0433      -0.0499      0.9605      -0.0898      0.0855\n",
       "x3           0.1248        0.0608       2.0541      0.0471       0.0017      0.2479\n",
       "------------------------------------------------------------------------------\n",
       "Omnibus:                   18.341           Durbin-Watson:              2.060 \n",
       "Prob(Omnibus):             0.000            Jarque-Bera (JB):           27.167\n",
       "Skew:                      -1.297           Prob(JB):                   0.000 \n",
       "Kurtosis:                  6.094            Condition No.:              3     \n",
       "==============================================================================\n",
       "\n",
       "\"\"\""
      ]
     },
     "execution_count": 48,
     "metadata": {},
     "output_type": "execute_result"
    }
   ],
   "source": [
    "model6.summary2()"
   ]
  },
  {
   "cell_type": "code",
   "execution_count": 49,
   "metadata": {},
   "outputs": [
    {
     "data": {
      "text/plain": [
       "0.9397642845396599"
      ]
     },
     "execution_count": 49,
     "metadata": {},
     "output_type": "execute_result"
    }
   ],
   "source": [
    "r2_6 = model6.rsquared_adj\n",
    "r2_6"
   ]
  },
  {
   "cell_type": "markdown",
   "metadata": {},
   "source": [
    "# 6. Building Model on Normalizing data"
   ]
  },
  {
   "cell_type": "code",
   "execution_count": 50,
   "metadata": {},
   "outputs": [],
   "source": [
    "from sklearn.preprocessing import MinMaxScaler"
   ]
  },
  {
   "cell_type": "code",
   "execution_count": 51,
   "metadata": {},
   "outputs": [],
   "source": [
    "scale = MinMaxScaler()"
   ]
  },
  {
   "cell_type": "code",
   "execution_count": 52,
   "metadata": {},
   "outputs": [],
   "source": [
    "y_train7 = np.array(y_train).reshape(-1,1)"
   ]
  },
  {
   "cell_type": "code",
   "execution_count": 53,
   "metadata": {},
   "outputs": [],
   "source": [
    "y_train7 = scale.fit_transform(y_train7)"
   ]
  },
  {
   "cell_type": "code",
   "execution_count": 54,
   "metadata": {},
   "outputs": [
    {
     "data": {
      "text/plain": [
       "array([[0.31015569],\n",
       "       [0.77446805],\n",
       "       [0.11821128],\n",
       "       [0.62331739],\n",
       "       [0.48009902]])"
      ]
     },
     "execution_count": 54,
     "metadata": {},
     "output_type": "execute_result"
    }
   ],
   "source": [
    "y_train7[:5]"
   ]
  },
  {
   "cell_type": "code",
   "execution_count": 55,
   "metadata": {},
   "outputs": [],
   "source": [
    "x_train8 = scale.fit_transform(x_train2)"
   ]
  },
  {
   "cell_type": "code",
   "execution_count": 56,
   "metadata": {},
   "outputs": [
    {
     "data": {
      "text/plain": [
       "array([[0.09377566, 0.57930693, 0.07531871],\n",
       "       [0.72901786, 0.74173276, 0.66049977],\n",
       "       [0.00327821, 0.00350184, 0.        ],\n",
       "       [0.57246821, 0.71401273, 0.59894835],\n",
       "       [0.37493063, 0.48992809, 0.19316302]])"
      ]
     },
     "execution_count": 56,
     "metadata": {},
     "output_type": "execute_result"
    }
   ],
   "source": [
    "x_train8[:5]"
   ]
  },
  {
   "cell_type": "code",
   "execution_count": 57,
   "metadata": {},
   "outputs": [],
   "source": [
    "model8 = smf.OLS(y_train7 , x_train8).fit()"
   ]
  },
  {
   "cell_type": "code",
   "execution_count": 58,
   "metadata": {},
   "outputs": [
    {
     "data": {
      "text/html": [
       "<table class=\"simpletable\">\n",
       "<caption>OLS Regression Results</caption>\n",
       "<tr>\n",
       "  <th>Dep. Variable:</th>            <td>y</td>        <th>  R-squared (uncentered):</th>      <td>   0.983</td>\n",
       "</tr>\n",
       "<tr>\n",
       "  <th>Model:</th>                   <td>OLS</td>       <th>  Adj. R-squared (uncentered):</th> <td>   0.982</td>\n",
       "</tr>\n",
       "<tr>\n",
       "  <th>Method:</th>             <td>Least Squares</td>  <th>  F-statistic:       </th>          <td>   733.1</td>\n",
       "</tr>\n",
       "<tr>\n",
       "  <th>Date:</th>             <td>Sat, 07 Aug 2021</td> <th>  Prob (F-statistic):</th>          <td>5.46e-33</td>\n",
       "</tr>\n",
       "<tr>\n",
       "  <th>Time:</th>                 <td>22:22:43</td>     <th>  Log-Likelihood:    </th>          <td>  46.581</td>\n",
       "</tr>\n",
       "<tr>\n",
       "  <th>No. Observations:</th>      <td>    40</td>      <th>  AIC:               </th>          <td>  -87.16</td>\n",
       "</tr>\n",
       "<tr>\n",
       "  <th>Df Residuals:</th>          <td>    37</td>      <th>  BIC:               </th>          <td>  -82.10</td>\n",
       "</tr>\n",
       "<tr>\n",
       "  <th>Df Model:</th>              <td>     3</td>      <th>                     </th>              <td> </td>   \n",
       "</tr>\n",
       "<tr>\n",
       "  <th>Covariance Type:</th>      <td>nonrobust</td>    <th>                     </th>              <td> </td>   \n",
       "</tr>\n",
       "</table>\n",
       "<table class=\"simpletable\">\n",
       "<tr>\n",
       "   <td></td>     <th>coef</th>     <th>std err</th>      <th>t</th>      <th>P>|t|</th>  <th>[0.025</th>    <th>0.975]</th>  \n",
       "</tr>\n",
       "<tr>\n",
       "  <th>x1</th> <td>    0.6694</td> <td>    0.077</td> <td>    8.674</td> <td> 0.000</td> <td>    0.513</td> <td>    0.826</td>\n",
       "</tr>\n",
       "<tr>\n",
       "  <th>x2</th> <td>    0.2151</td> <td>    0.041</td> <td>    5.238</td> <td> 0.000</td> <td>    0.132</td> <td>    0.298</td>\n",
       "</tr>\n",
       "<tr>\n",
       "  <th>x3</th> <td>    0.2636</td> <td>    0.069</td> <td>    3.806</td> <td> 0.001</td> <td>    0.123</td> <td>    0.404</td>\n",
       "</tr>\n",
       "</table>\n",
       "<table class=\"simpletable\">\n",
       "<tr>\n",
       "  <th>Omnibus:</th>       <td> 0.934</td> <th>  Durbin-Watson:     </th> <td>   2.212</td>\n",
       "</tr>\n",
       "<tr>\n",
       "  <th>Prob(Omnibus):</th> <td> 0.627</td> <th>  Jarque-Bera (JB):  </th> <td>   0.941</td>\n",
       "</tr>\n",
       "<tr>\n",
       "  <th>Skew:</th>          <td>-0.218</td> <th>  Prob(JB):          </th> <td>   0.625</td>\n",
       "</tr>\n",
       "<tr>\n",
       "  <th>Kurtosis:</th>      <td> 2.388</td> <th>  Cond. No.          </th> <td>    7.05</td>\n",
       "</tr>\n",
       "</table><br/><br/>Warnings:<br/>[1] Standard Errors assume that the covariance matrix of the errors is correctly specified."
      ],
      "text/plain": [
       "<class 'statsmodels.iolib.summary.Summary'>\n",
       "\"\"\"\n",
       "                                 OLS Regression Results                                \n",
       "=======================================================================================\n",
       "Dep. Variable:                      y   R-squared (uncentered):                   0.983\n",
       "Model:                            OLS   Adj. R-squared (uncentered):              0.982\n",
       "Method:                 Least Squares   F-statistic:                              733.1\n",
       "Date:                Sat, 07 Aug 2021   Prob (F-statistic):                    5.46e-33\n",
       "Time:                        22:22:43   Log-Likelihood:                          46.581\n",
       "No. Observations:                  40   AIC:                                     -87.16\n",
       "Df Residuals:                      37   BIC:                                     -82.10\n",
       "Df Model:                           3                                                  \n",
       "Covariance Type:            nonrobust                                                  \n",
       "==============================================================================\n",
       "                 coef    std err          t      P>|t|      [0.025      0.975]\n",
       "------------------------------------------------------------------------------\n",
       "x1             0.6694      0.077      8.674      0.000       0.513       0.826\n",
       "x2             0.2151      0.041      5.238      0.000       0.132       0.298\n",
       "x3             0.2636      0.069      3.806      0.001       0.123       0.404\n",
       "==============================================================================\n",
       "Omnibus:                        0.934   Durbin-Watson:                   2.212\n",
       "Prob(Omnibus):                  0.627   Jarque-Bera (JB):                0.941\n",
       "Skew:                          -0.218   Prob(JB):                        0.625\n",
       "Kurtosis:                       2.388   Cond. No.                         7.05\n",
       "==============================================================================\n",
       "\n",
       "Warnings:\n",
       "[1] Standard Errors assume that the covariance matrix of the errors is correctly specified.\n",
       "\"\"\""
      ]
     },
     "execution_count": 58,
     "metadata": {},
     "output_type": "execute_result"
    }
   ],
   "source": [
    "model8.summary()"
   ]
  },
  {
   "cell_type": "code",
   "execution_count": 59,
   "metadata": {},
   "outputs": [
    {
     "data": {
      "text/plain": [
       "0.9821130439081597"
      ]
     },
     "execution_count": 59,
     "metadata": {},
     "output_type": "execute_result"
    }
   ],
   "source": [
    "r2_8 = model8.rsquared_adj\n",
    "r2_8"
   ]
  },
  {
   "cell_type": "code",
   "execution_count": 61,
   "metadata": {},
   "outputs": [
    {
     "data": {
      "text/html": [
       "<div>\n",
       "<style scoped>\n",
       "    .dataframe tbody tr th:only-of-type {\n",
       "        vertical-align: middle;\n",
       "    }\n",
       "\n",
       "    .dataframe tbody tr th {\n",
       "        vertical-align: top;\n",
       "    }\n",
       "\n",
       "    .dataframe thead th {\n",
       "        text-align: right;\n",
       "    }\n",
       "</style>\n",
       "<table border=\"1\" class=\"dataframe\">\n",
       "  <thead>\n",
       "    <tr style=\"text-align: right;\">\n",
       "      <th></th>\n",
       "      <th>R Square Values</th>\n",
       "      <th>AIC</th>\n",
       "    </tr>\n",
       "  </thead>\n",
       "  <tbody>\n",
       "    <tr>\n",
       "      <th>Model without any modification</th>\n",
       "      <td>0.987961</td>\n",
       "      <td>881.033328</td>\n",
       "    </tr>\n",
       "    <tr>\n",
       "      <th>Transformed with removing insignifact variables</th>\n",
       "      <td>0.987653</td>\n",
       "      <td>878.042273</td>\n",
       "    </tr>\n",
       "    <tr>\n",
       "      <th>Transformed using ln-transform</th>\n",
       "      <td>0.969628</td>\n",
       "      <td>175.379984</td>\n",
       "    </tr>\n",
       "    <tr>\n",
       "      <th>Transformed with square root transform</th>\n",
       "      <td>0.977245</td>\n",
       "      <td>433.149583</td>\n",
       "    </tr>\n",
       "    <tr>\n",
       "      <th>Transformed with Standard Scaling data</th>\n",
       "      <td>0.944282</td>\n",
       "      <td>4.017028</td>\n",
       "    </tr>\n",
       "    <tr>\n",
       "      <th>Transformed with Normalizing data</th>\n",
       "      <td>0.983455</td>\n",
       "      <td>-87.161763</td>\n",
       "    </tr>\n",
       "  </tbody>\n",
       "</table>\n",
       "</div>"
      ],
      "text/plain": [
       "                                                 R Square Values         AIC\n",
       "Model without any modification                          0.987961  881.033328\n",
       "Transformed with removing insignifact variables         0.987653  878.042273\n",
       "Transformed using ln-transform                          0.969628  175.379984\n",
       "Transformed with square root transform                  0.977245  433.149583\n",
       "Transformed with Standard Scaling data                  0.944282    4.017028\n",
       "Transformed with Normalizing data                       0.983455  -87.161763"
      ]
     },
     "execution_count": 61,
     "metadata": {},
     "output_type": "execute_result"
    }
   ],
   "source": [
    "final_data = [{'R Square Values': model1.rsquared, 'AIC':model1.aic}, {'R Square Values': model2.rsquared, 'AIC':model2.aic}, \\\n",
    "        {'R Square Values': model3.rsquared, 'AIC':model3.aic}, {'R Square Values': model4.rsquared, 'AIC':model4.aic}, \\\n",
    "        {'R Square Values': model6.rsquared, 'AIC':model6.aic} , {'R Square Values': model8.rsquared, 'AIC':model8.aic}] \n",
    "\n",
    "# Lists of dictionaries and row index.\n",
    "final_df = pd.DataFrame(final_data, index =['Model without any modification', 'Transformed with removing insignifact variables',\\\n",
    "                                'Transformed using ln-transform','Transformed with square root transform',\\\n",
    "                                'Transformed with Standard Scaling data','Transformed with Normalizing data'])\n",
    "  \n",
    "# Print the data\n",
    "final_df"
   ]
  },
  {
   "cell_type": "markdown",
   "metadata": {},
   "source": [
    "# On-observing this dataframe , it can be observed that the model with Normalizing transformation has very high Rsquared value as well comparatively low AIC"
   ]
  },
  {
   "cell_type": "markdown",
   "metadata": {},
   "source": [
    "# It can be concluded that transforming data by Normalizing is best model for this data"
   ]
  }
 ],
 "metadata": {
  "kernelspec": {
   "display_name": "Python 3",
   "language": "python",
   "name": "python3"
  },
  "language_info": {
   "codemirror_mode": {
    "name": "ipython",
    "version": 3
   },
   "file_extension": ".py",
   "mimetype": "text/x-python",
   "name": "python",
   "nbconvert_exporter": "python",
   "pygments_lexer": "ipython3",
   "version": "3.8.3"
  }
 },
 "nbformat": 4,
 "nbformat_minor": 4
}
